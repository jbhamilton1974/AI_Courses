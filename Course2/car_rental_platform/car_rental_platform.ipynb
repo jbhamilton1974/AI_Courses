{
 "cells": [
  {
   "cell_type": "code",
   "execution_count": 1,
   "metadata": {},
   "outputs": [
    {
     "name": "stdout",
     "output_type": "stream",
     "text": [
      "\n",
      "Available Cars:\n",
      "Item #1, Name: Ford F150, Hourly: 8, Daily: 80, Weekly: 480 Number Available: 3\n",
      "Item #2, Name: Buick Encore, Hourly: 6, Daily: 60, Weekly: 360 Number Available: 1\n",
      "Item #3, Name: Tesla, Hourly: 7, Daily: 70, Weekly: 420 Number Available: 2\n",
      "\n",
      "Available Rates:\n",
      "Hourly, Daily, Weekly\n",
      "\n",
      "Car with licence plate WBC524C rented Hourly\n",
      "Car with licence plate YBA738F rented Hourly\n",
      "Car with licence plate YBA738F returned\n",
      "Bill for this car is $ 0.04\n"
     ]
    }
   ],
   "source": [
    "from rental import *\n",
    "from customers import *\n",
    "while True:\n",
    "    choice = input('Choose a command: (1) Rent a Car (2) Return a Car (3) Quit :')\n",
    "    rental = Rental();\n",
    "    if choice == '3':\n",
    "        break\n",
    "    elif choice == '1':\n",
    "        rental.show_inventory()\n",
    "        code = input(\"Enter the Item # for the Car you want:\")\n",
    "        rental.show_rate_types()\n",
    "        rate_type = input(\"Enter in one of the rates above:\")\n",
    "        count = input('How many of these would you like to rent:')\n",
    "        rental.rent_car(code, rate_type, count)\n",
    "    elif choice == '2':\n",
    "        plate = input('Enter the Plate number:')\n",
    "        rental.return_car(plate)\n",
    "    else:\n",
    "        print('Invalid Command')\n"
   ]
  }
 ],
 "metadata": {
  "kernelspec": {
   "display_name": "Python 3",
   "language": "python",
   "name": "python3"
  },
  "language_info": {
   "codemirror_mode": {
    "name": "ipython",
    "version": 3
   },
   "file_extension": ".py",
   "mimetype": "text/x-python",
   "name": "python",
   "nbconvert_exporter": "python",
   "pygments_lexer": "ipython3",
   "version": "3.9.13"
  }
 },
 "nbformat": 4,
 "nbformat_minor": 2
}
